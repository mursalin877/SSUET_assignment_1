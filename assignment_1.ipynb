{
 "cells": [
  {
   "cell_type": "code",
   "execution_count": 3,
   "metadata": {},
   "outputs": [
    {
     "name": "stdout",
     "output_type": "stream",
     "text": [
      "BIO INFO\n",
      "NAME : Mursalin Ahmed\n",
      "Date Of Birth : 25/5/1987\n",
      "Email : mursalinabbasi446@gmail.com\n",
      "Mobile no : 923152353554\n",
      "City : Karachi\n",
      "Address : Korangi_5\n"
     ]
    }
   ],
   "source": [
    "print(\"BIO INFO\")\n",
    "\n",
    "first_name = \"Mursalin\"\n",
    "last_name = \"Ahmed\"\n",
    "dob = \"25/5/1987\"\n",
    "email = \"mursalinabbasi446@gmail.com\"\n",
    "cell_no = 923152353554\n",
    "city = \"Karachi\"\n",
    "address = \"Korangi_5\"\n",
    "\n",
    "print(\"NAME :\" ,first_name,last_name)\n",
    "print(\"Date Of Birth :\" ,dob)\n",
    "print(\"Email :\" ,email)\n",
    "print(\"Mobile no :\" ,cell_no)\n",
    "print(\"City :\" ,city)\n",
    "print(\"Address :\" ,address)"
   ]
  },
  {
   "cell_type": "code",
   "execution_count": null,
   "metadata": {},
   "outputs": [],
   "source": []
  }
 ],
 "metadata": {
  "kernelspec": {
   "display_name": "Python 3",
   "language": "python",
   "name": "python3"
  },
  "language_info": {
   "codemirror_mode": {
    "name": "ipython",
    "version": 3
   },
   "file_extension": ".py",
   "mimetype": "text/x-python",
   "name": "python",
   "nbconvert_exporter": "python",
   "pygments_lexer": "ipython3",
   "version": "3.7.4"
  }
 },
 "nbformat": 4,
 "nbformat_minor": 2
}
